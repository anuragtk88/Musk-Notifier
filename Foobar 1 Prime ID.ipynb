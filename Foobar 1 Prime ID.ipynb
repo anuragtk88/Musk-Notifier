{
 "cells": [
  {
   "cell_type": "markdown",
   "metadata": {},
   "source": [
    "### Re-ID\n",
    "=====\n",
    "\n",
    "There's some unrest in the minion ranks: minions with ID numbers like \"1\", \"42\", and other \"good\" numbers have been lording it over the poor minions who are stuck with more boring IDs. To quell the unrest, Commander Lambda has tasked you with reassigning everyone new, random IDs based on her Completely Foolproof Scheme. \n",
    "\n",
    "She's concatenated the prime numbers in a single long string: \"2357111317192329...\". Now every minion must draw a number from a hat. That number is the starting index in that string of primes, and the minion's new ID number will be the next five digits in the string. So if a minion draws \"3\", their ID number will be \"71113\". \n",
    "\n",
    "Help the Commander assign these IDs by writing a function solution(n) which takes in the starting index n of Lambda's string of all primes, and returns the next five digits in the string. Commander Lambda has a lot of minions, so the value of n will always be between 0 and 10000.\n",
    "\n",
    "Languages\n",
    "=========\n",
    "\n",
    "To provide a Java solution, edit Solution.java\n",
    "To provide a Python solution, edit solution.py\n",
    "\n",
    "Test cases\n",
    "==========\n",
    "Your code should pass the following test cases.\n",
    "Note that it may also be run against hidden test cases not shown here.\n",
    "\n",
    "-- Java cases --\n",
    "Input:\n",
    "Solution.solution(0)\n",
    "Output:\n",
    "    23571\n",
    "\n",
    "Input:\n",
    "Solution.solution(3)\n",
    "Output:\n",
    "    71113\n",
    "\n",
    "-- Python cases --\n",
    "Input:\n",
    "solution.solution(0)\n",
    "Output:\n",
    "    23571\n",
    "\n",
    "Input:\n",
    "solution.solution(3)\n",
    "Output:\n",
    "    71113"
   ]
  },
  {
   "cell_type": "markdown",
   "metadata": {},
   "source": [
    "### Solution is a function that takes a paremeter 'n' and returns a 5 charachter long string. The string is a continous sequence of prime numbers and n corresponds to the nth index. The string returned is prime_str[n:n+5]"
   ]
  },
  {
   "cell_type": "markdown",
   "metadata": {},
   "source": [
    "### The solutiton which is the comment from Sieve of Eratosthenes, which is named 'Solution', which checks only for odd numbers is the solution that I submitted."
   ]
  },
  {
   "cell_type": "markdown",
   "metadata": {},
   "source": [
    "### My extremely under-optimised solution "
   ]
  },
  {
   "cell_type": "code",
   "execution_count": 64,
   "metadata": {},
   "outputs": [],
   "source": [
    "def solution1(n):\n",
    "    \n",
    "    import itertools\n",
    "      \n",
    "    def prime_str_gtr(str_len): \n",
    "        #PRIME NUMBER STRING GENERATOR\n",
    "        #Takes a integer as input and outputs a string of continous prime numbers\n",
    "        #with the integer as the string length.\n",
    "\n",
    "        prime_str = \"2\"\n",
    "        \n",
    "        for j in itertools.count(3,2):\n",
    "            factors = int(np.sqrt(j) + 1)\n",
    "            count = 0\n",
    "            \n",
    "            for k in range(3,factors+1,2):\n",
    "                if(j%k==0):\n",
    "                    count+=1\n",
    "                    \n",
    "            if count == 0:\n",
    "                prime_str+=str(j)\n",
    "                        \n",
    "            if(len(prime_str)>str_len+4):\n",
    "                return(prime_str[:str_len+4])\n",
    "                break\n",
    "                \n",
    "    prime_str = prime_str_gtr(10001)\n",
    "\n",
    "    return prime_str[n:n+5]"
   ]
  },
  {
   "cell_type": "markdown",
   "metadata": {},
   "source": [
    "### Prime number generator taken from stackoverflow"
   ]
  },
  {
   "cell_type": "code",
   "execution_count": 105,
   "metadata": {},
   "outputs": [],
   "source": [
    "def solution2(n):\n",
    "\n",
    "    import numpy as np\n",
    "    \n",
    "    def prime_str_gtr(str_len): \n",
    "        #PRIME NUMBER STRING GENERATOR\n",
    "        #Returns a string of continous prime numbers with parameter str_len \n",
    "        #as string length.\n",
    "        prime_str = \"2\"\n",
    "        num = 3\n",
    "        \n",
    "        while len(prime_str) <= str_len+4:\n",
    "            \n",
    "            isprime = True\n",
    "            for i in range(2,int(np.sqrt(num)+1)):\n",
    "                if num%i == 0:\n",
    "                    isprime = False\n",
    "                    break\n",
    "            if isprime:\n",
    "                prime_str += str(num)\n",
    "            \n",
    "            num += 1\n",
    "        \n",
    "        return prime_str\n",
    "    \n",
    "    id_str = prime_str_gtr(10001)\n",
    "    \n",
    "    return id_str[n:n+100]"
   ]
  },
  {
   "cell_type": "markdown",
   "metadata": {},
   "source": [
    "### Implementation of Sieve of Erastosthenes"
   ]
  },
  {
   "cell_type": "code",
   "execution_count": 117,
   "metadata": {},
   "outputs": [],
   "source": [
    "# Sieve of Eratosthenes\n",
    "# Code by David Eppstein, UC Irvine, 28 Feb 2002\n",
    "# http://code.activestate.com/recipes/117119/\n",
    "\n",
    "def solution3(n):\n",
    "    def prime_str_gtr(str_len):\n",
    "        \"\"\" Generate an infinite sequence of prime numbers.\n",
    "        \"\"\"\n",
    "        # Maps composites to primes witnessing their compositeness.\n",
    "        # This is memory efficient, as the sieve is not \"run forward\"\n",
    "        # indefinitely, but only as long as required by the current\n",
    "        # number being tested.\n",
    "        #\n",
    "        prime_str = \"\"\n",
    "        D = {}\n",
    "\n",
    "        # The running integer that's checked for primeness\n",
    "        q = 2\n",
    "\n",
    "        while len(prime_str) <= str_len+4:\n",
    "            if q not in D:\n",
    "                # q is a new prime.\n",
    "                # Yield it and mark its first multiple that isn't\n",
    "                # already marked in previous iterations\n",
    "                # \n",
    "                prime_str += str(q)\n",
    "                D[q * q] = [q]\n",
    "                print(q)\n",
    "                print(D)\n",
    "            else:\n",
    "                # q is composite. D[q] is the list of primes that\n",
    "                # divide it. Since we've reached q, we no longer\n",
    "                # need it in the map, but we'll mark the next \n",
    "                # multiples of its witnesses to prepare for larger\n",
    "                # numbers\n",
    "                # \n",
    "                for p in D[q]:\n",
    "                    D.setdefault(p + q, []).append(p)\n",
    "                print(q)\n",
    "                del D[q]\n",
    "                print(D)    \n",
    "            q += 1\n",
    "        return prime_str\n",
    "    \n",
    "    id_string = prime_str_gtr(10001)\n",
    "    #return id_string[n:n+5]"
   ]
  },
  {
   "cell_type": "markdown",
   "metadata": {},
   "source": [
    "### Taken from a comment from the implementation of Sieve of Erastosthenes, this only checks odd numbers so it is better"
   ]
  },
  {
   "cell_type": "code",
   "execution_count": 177,
   "metadata": {},
   "outputs": [],
   "source": [
    "def solution(n):    \n",
    "    \n",
    "    def prime_string_gtr(str_len):\n",
    "        '''PRIME NUMBER STRING GENERATOR\n",
    "        Returns a string of continous prime numbers with parameter str_len as string length'''\n",
    "        \n",
    "        prime_string = \"2\"\n",
    "        composite_dict = {}\n",
    "        i = 3  #Running variable which is checked for primality\n",
    "        \n",
    "        while len(prime_string) <= str_len+4: #str_len+4 is the minimum length of string required \n",
    "            y = composite_dict.pop(i, 0)      #In this case str_len is 10001, as the number of IDs\n",
    "                                              #'+4' to account for IDs near/at end of indexing\n",
    "            if y:\n",
    "                x = i + y\n",
    "                while x in composite_dict:    #If 'x' is already in composit_dict then the next  \n",
    "                    x += y                    #composite number is added. If it is not then 'x' is\n",
    "                composite_dict[x] = y         #added.\n",
    "    \n",
    "            else:\n",
    "                #'2i' is assigned to introduce only odd elements in the composite dictionary\n",
    "                #when 'x = i + y' in the if condition above.\n",
    "                #(since primality of only odd numbers is being checked)\n",
    "                composite_dict[i*i] = 2*i \n",
    "                prime_string += str(i)\n",
    "                \n",
    "            i += 2 #Next odd number\n",
    "            \n",
    "        return prime_string \n",
    "    \n",
    "    id_string = prime_string_gtr(10001) #Since 10001 IDs are required\n",
    "    \n",
    "    return id_string[n:n+5]"
   ]
  },
  {
   "cell_type": "code",
   "execution_count": null,
   "metadata": {},
   "outputs": [],
   "source": []
  }
 ],
 "metadata": {
  "kernelspec": {
   "display_name": "Python 3",
   "language": "python",
   "name": "python3"
  },
  "language_info": {
   "codemirror_mode": {
    "name": "ipython",
    "version": 3
   },
   "file_extension": ".py",
   "mimetype": "text/x-python",
   "name": "python",
   "nbconvert_exporter": "python",
   "pygments_lexer": "ipython3",
   "version": "3.7.6"
  },
  "varInspector": {
   "cols": {
    "lenName": 16,
    "lenType": 16,
    "lenVar": 40
   },
   "kernels_config": {
    "python": {
     "delete_cmd_postfix": "",
     "delete_cmd_prefix": "del ",
     "library": "var_list.py",
     "varRefreshCmd": "print(var_dic_list())"
    },
    "r": {
     "delete_cmd_postfix": ") ",
     "delete_cmd_prefix": "rm(",
     "library": "var_list.r",
     "varRefreshCmd": "cat(var_dic_list()) "
    }
   },
   "position": {
    "height": "379.4px",
    "left": "661.067px",
    "right": "20px",
    "top": "120px",
    "width": "342.933px"
   },
   "types_to_exclude": [
    "module",
    "function",
    "builtin_function_or_method",
    "instance",
    "_Feature"
   ],
   "window_display": false
  }
 },
 "nbformat": 4,
 "nbformat_minor": 2
}
